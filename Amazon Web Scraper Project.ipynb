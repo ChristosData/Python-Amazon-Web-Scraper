{
 "cells": [
  {
   "cell_type": "code",
   "execution_count": 78,
   "id": "9475cb35",
   "metadata": {},
   "outputs": [],
   "source": [
    "from bs4 import BeautifulSoup\n",
    "import pandas as pd\n",
    "import requests\n",
    "import time\n",
    "import datetime\n",
    "import csv\n",
    "import smtplib"
   ]
  },
  {
   "cell_type": "code",
   "execution_count": 82,
   "id": "18e1f9e2",
   "metadata": {},
   "outputs": [
    {
     "name": "stdout",
     "output_type": "stream",
     "text": [
      "Kindle Paperwhite | 8 GB, now with a 6.8\" display and adjustable warm light, with ads\n",
      "129.99\n",
      "2,003\n"
     ]
    }
   ],
   "source": [
    "# Connect to website we intend to scrape and pull-in data\n",
    "# Strip the content as part of data cleaning before it is imported into a CSV file\n",
    "\n",
    "URL = 'https://www.amazon.co.uk/dp/B08N3TCP2F/ref=gw_uk_desk_mso_eink_mlb_bau_xpl2?pf_rd_r=E9R245N7M5YJD505040K'\n",
    "\n",
    "headers = {'User-Agent': 'Mozilla/5.0 (Macintosh; Intel Mac OS X 10_15_7) AppleWebKit/537.36 (KHTML, like Gecko) Chrome/99.0.4844.83 Safari/537.3'}\n",
    "\n",
    "page = requests.get(URL, headers=headers)\n",
    "\n",
    "Soup1 = BeautifulSoup(page.content, 'html.parser')\n",
    "\n",
    "Soup2 = BeautifulSoup(Soup1.prettify(), 'html.parser')\n",
    "\n",
    "RawTitle = Soup2.find(id='productTitle').get_text()\n",
    "Title = RawTitle.strip()\n",
    "rawprice = Soup2.find('span', 'a-offscreen').get_text()\n",
    "Price = rawprice.strip()[1:]\n",
    "rawratings = Soup2.find(id='acrCustomerReviewText').get_text()\n",
    "rr = rawratings.strip()\n",
    "Ratings = ratings.split(\" \")[:1][0]\n",
    "print(Title)\n",
    "print(Price)\n",
    "print(Ratings)\n"
   ]
  },
  {
   "cell_type": "code",
   "execution_count": 72,
   "id": "b26b740e",
   "metadata": {},
   "outputs": [
    {
     "name": "stdout",
     "output_type": "stream",
     "text": [
      "2022-03-31\n"
     ]
    }
   ],
   "source": [
    "# create a timestamp, to track when data was collected\n",
    "import datetime\n",
    "today = datetime.date.today()\n",
    "print(today)"
   ]
  },
  {
   "cell_type": "code",
   "execution_count": 75,
   "id": "58a0377e",
   "metadata": {},
   "outputs": [],
   "source": [
    "# Create the CSV file where scraped files will be collated, write headers and data into file\n",
    "header = ['Title', 'Price', 'Ratings', 'Date']\n",
    "data = [Title, Price, Ratings, today]\n",
    "\n",
    "with open('AmazonScraperFile.csv', 'w', newline='', encoding='UTF8') as f:\n",
    "    writer = csv.writer(f)\n",
    "    writer.writerow(header)\n",
    "    writer.writerow(data)"
   ]
  },
  {
   "cell_type": "code",
   "execution_count": 79,
   "id": "1b00b6df",
   "metadata": {},
   "outputs": [
    {
     "name": "stdout",
     "output_type": "stream",
     "text": [
      "                                               Title   Price Ratings  \\\n",
      "0  Kindle Paperwhite | 8 GB, now with a 6.8\" disp...  129.99   2,003   \n",
      "\n",
      "         Date  \n",
      "0  2022-03-31  \n"
     ]
    }
   ],
   "source": [
    "#Print data from the CSV file we have just created\n",
    "df = pd.read_csv('/Users/home/AmazonScraperFile.csv')\n",
    "print(df)"
   ]
  },
  {
   "cell_type": "code",
   "execution_count": null,
   "id": "22e0da44",
   "metadata": {},
   "outputs": [],
   "source": [
    "#Appending new data to the CSV\n",
    "\n",
    "with open('AmazonScraperFile.csv', 'a+', newline='', encoding='UTF8') as f:\n",
    "    writer = csv.writer(f)\n",
    "    writer.writerow(data)\n"
   ]
  },
  {
   "cell_type": "code",
   "execution_count": 81,
   "id": "f6256b18",
   "metadata": {},
   "outputs": [],
   "source": [
    "# we automate the process of price checking. Combine all of above code into one function\n",
    "def check_price():\n",
    "\n",
    "    URL = 'https://www.amazon.co.uk/dp/B08N3TCP2F/ref=gw_uk_desk_mso_eink_mlb_bau_xpl2?pf_rd_r=E9R245N7M5YJD505040K'\n",
    "\n",
    "    headers = {'User-Agent': 'Mozilla/5.0 (Macintosh; Intel Mac OS X 10_15_7) AppleWebKit/537.36 (KHTML, like Gecko) Chrome/99.0.4844.83 Safari/537.3'}\n",
    "\n",
    "    page = requests.get(URL, headers=headers)\n",
    "\n",
    "    Soup1 = BeautifulSoup(page.content, 'html.parser')\n",
    "\n",
    "    Soup2 = BeautifulSoup(Soup1.prettify(), 'html.parser')\n",
    "\n",
    "    RawTitle = Soup2.find(id='productTitle').get_text()\n",
    "    Title = RawTitle.strip()\n",
    "    rawprice = Soup2.find('span', 'a-offscreen').get_text()\n",
    "    Price = rawprice.strip()[1:]\n",
    "    rawratings = Soup2.find(id='acrCustomerReviewText').get_text()\n",
    "    rr = rawratings.strip()\n",
    "    Ratings = ratings.split(\" \")[:1][0]\n",
    "   \n",
    "    import datetime\n",
    "    today = datetime.date.today()\n",
    "\n",
    "    import csv\n",
    "    header = ['Title', 'Price', 'Ratings', 'Date']\n",
    "    data = [Title, Price, Ratings, today]\n",
    "    \n",
    "    with open('AmazonScraperFile.csv', 'a+', newline='', encoding='UTF8') as f:\n",
    "        writer = csv.writer(f)\n",
    "        writer.writerow(data)\n"
   ]
  },
  {
   "cell_type": "code",
   "execution_count": null,
   "id": "c259a9aa",
   "metadata": {},
   "outputs": [],
   "source": [
    "#This query runs the above query check_price once every day (86,400 seconds) and inputs data into our CSV file we created\n",
    "\n",
    "while(True):\n",
    "    check_price()\n",
    "    time.sleep(86400)"
   ]
  }
 ],
 "metadata": {
  "kernelspec": {
   "display_name": "Python 3 (ipykernel)",
   "language": "python",
   "name": "python3"
  },
  "language_info": {
   "codemirror_mode": {
    "name": "ipython",
    "version": 3
   },
   "file_extension": ".py",
   "mimetype": "text/x-python",
   "name": "python",
   "nbconvert_exporter": "python",
   "pygments_lexer": "ipython3",
   "version": "3.9.7"
  }
 },
 "nbformat": 4,
 "nbformat_minor": 5
}
